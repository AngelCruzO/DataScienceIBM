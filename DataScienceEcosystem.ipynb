{
 "cells": [
  {
   "cell_type": "markdown",
   "id": "b08e44b9-edf6-4377-8602-65653c6677ff",
   "metadata": {},
   "source": [
    "# Data Science Tools and Ecosystem"
   ]
  },
  {
   "cell_type": "markdown",
   "id": "9cead476-3292-4996-85fb-9860e3c891d6",
   "metadata": {},
   "source": [
    "In this notebook, Data Science Tools and Ecosystem are summarized."
   ]
  },
  {
   "cell_type": "markdown",
   "id": "08a8e2e3-4c3e-40ef-bc27-9dc6b28e29fc",
   "metadata": {},
   "source": [
    "**Objectives**:\n",
    "\n",
    "- List of the most popular languages for Data Science\n",
    "\n",
    "- Most used libraries for Data Science\n",
    "\n",
    "- IDEs used for data science\n",
    "\n",
    "- Introduction to Python"
   ]
  },
  {
   "cell_type": "markdown",
   "id": "2a5eb641-f70c-47aa-8dd2-85e81355e755",
   "metadata": {},
   "source": [
    "Some of the popular languages that Data Scientists use are:\n",
    "\n",
    "1. Python\n",
    "2. R\n",
    "4. Julia\n",
    "5. C++\n",
    "4. Java"
   ]
  },
  {
   "cell_type": "markdown",
   "id": "bc392b9a-a357-4bc7-9622-cb0ce95a574e",
   "metadata": {},
   "source": [
    "Some of the commonly used libraries used by Data Scientits include:\n",
    "\n",
    "1. Pandas\n",
    "2. ggplot2\n",
    "3. Scikit-learn"
   ]
  },
  {
   "cell_type": "markdown",
   "id": "2054ab9d-b7c3-4b6f-98bb-a29d63b7d662",
   "metadata": {
    "tags": []
   },
   "source": [
    "| Data Science Tools |\n",
    "| ------------------ |\n",
    "| Visual Studio Code |\n",
    "| JupyterLab |\n",
    "| Anaconda |\n"
   ]
  },
  {
   "cell_type": "markdown",
   "id": "4f3af187-5224-4de4-90ea-53fe43b84b6a",
   "metadata": {},
   "source": [
    "### Below are a few examples of evaluating arithmetic expressions in Python."
   ]
  },
  {
   "cell_type": "code",
   "execution_count": 2,
   "id": "1d342d6a-1339-453b-8863-b61e26bc1576",
   "metadata": {
    "tags": []
   },
   "outputs": [
    {
     "data": {
      "text/plain": [
       "17"
      ]
     },
     "execution_count": 2,
     "metadata": {},
     "output_type": "execute_result"
    }
   ],
   "source": [
    "# This a simple arithmetic expression to multiply then add integers\n",
    "(3*4)+5"
   ]
  },
  {
   "cell_type": "code",
   "execution_count": 3,
   "id": "395e12e9-7e0b-4c5a-8812-5cd40637a217",
   "metadata": {
    "tags": []
   },
   "outputs": [
    {
     "data": {
      "text/plain": [
       "3.3333333333333335"
      ]
     },
     "execution_count": 3,
     "metadata": {},
     "output_type": "execute_result"
    }
   ],
   "source": [
    "# This will convert 200 minutes to hours by diving by 60\n",
    "200/60"
   ]
  },
  {
   "cell_type": "markdown",
   "id": "f30b674e-f0a2-4ded-b7f7-f2b3750cac3d",
   "metadata": {
    "tags": []
   },
   "source": [
    "## Author\n",
    "Angel Cruz Olvera"
   ]
  }
 ],
 "metadata": {
  "kernelspec": {
   "display_name": "Python",
   "language": "python",
   "name": "conda-env-python-py"
  },
  "language_info": {
   "codemirror_mode": {
    "name": "ipython",
    "version": 3
   },
   "file_extension": ".py",
   "mimetype": "text/x-python",
   "name": "python",
   "nbconvert_exporter": "python",
   "pygments_lexer": "ipython3",
   "version": "3.7.12"
  }
 },
 "nbformat": 4,
 "nbformat_minor": 5
}
